{
  "nbformat": 4,
  "nbformat_minor": 0,
  "metadata": {
    "colab": {
      "name": "Untitled7.ipynb",
      "provenance": [],
      "authorship_tag": "ABX9TyM/qcL4CeiT7F0MkvwUH7R5",
      "include_colab_link": true
    },
    "kernelspec": {
      "name": "python3",
      "display_name": "Python 3"
    },
    "language_info": {
      "name": "python"
    }
  },
  "cells": [
    {
      "cell_type": "markdown",
      "metadata": {
        "id": "view-in-github",
        "colab_type": "text"
      },
      "source": [
        "<a href=\"https://colab.research.google.com/github/samanthamartinez-chem/BEDU/blob/master/listas.ipynb\" target=\"_parent\"><img src=\"https://colab.research.google.com/assets/colab-badge.svg\" alt=\"Open In Colab\"/></a>"
      ]
    },
    {
      "cell_type": "markdown",
      "metadata": {
        "id": "Rt2tyIotC38u"
      },
      "source": [
        "#**Listas**"
      ]
    },
    {
      "cell_type": "markdown",
      "metadata": {
        "id": "TVFcSD46EapP"
      },
      "source": [
        "Es una colección de datos en un orden particular. Los datos no tienen que estar relacionados en alguna manera partícular, y ya que generalmente contienen más d eun elemento, es buena idea nombrarlas como plurales, como \"letras, dígitos o nombres\"."
      ]
    },
    {
      "cell_type": "markdown",
      "metadata": {
        "id": "jiOwJ36HEuow"
      },
      "source": [
        "###En phyton, los brackets [] indican una lista, y los elementos individuales están separados por comas."
      ]
    },
    {
      "cell_type": "code",
      "metadata": {
        "colab": {
          "base_uri": "https://localhost:8080/"
        },
        "id": "ObhuR6uoCgDx",
        "outputId": "363d44c8-e05e-4413-f45e-d6b350a3b0e7"
      },
      "source": [
        "bycicles = ['treck', 'cannondale', 'redline', 'specilized']\n",
        "print(bycicles)"
      ],
      "execution_count": null,
      "outputs": [
        {
          "output_type": "stream",
          "text": [
            "['treck', 'cannondale', 'redline', 'specilized']\n"
          ],
          "name": "stdout"
        }
      ]
    },
    {
      "cell_type": "markdown",
      "metadata": {
        "id": "TTZ5uuWmFFNf"
      },
      "source": [
        "##**¿Cómo accesar a elementos individuales de una lista?**"
      ]
    },
    {
      "cell_type": "markdown",
      "metadata": {
        "id": "80FML6wIFxry"
      },
      "source": [
        "Las listas son colecciones ordenadas, así que se puede accesar a cualquier elemento al decirle a Python la posición o el índice del objeto de interés. Por ejemplo "
      ]
    },
    {
      "cell_type": "code",
      "metadata": {
        "colab": {
          "base_uri": "https://localhost:8080/"
        },
        "id": "MN8hgD92C3K4",
        "outputId": "7e989a16-a1d4-472f-a655-ca3805563089"
      },
      "source": [
        "print(bycicles[0])"
      ],
      "execution_count": null,
      "outputs": [
        {
          "output_type": "stream",
          "text": [
            "treck\n"
          ],
          "name": "stdout"
        }
      ]
    },
    {
      "cell_type": "markdown",
      "metadata": {
        "id": "JF9VGHKLGnBr"
      },
      "source": [
        "**Python considera al primer elemento en la posición 0**"
      ]
    },
    {
      "cell_type": "markdown",
      "metadata": {
        "id": "ZZuOJNgbGKwU"
      },
      "source": [
        "Los métodos pueden combinarse, por ejemplo, pediremos que se muestre el primer elemento de la lista bycicles en forma de título:"
      ]
    },
    {
      "cell_type": "code",
      "metadata": {
        "colab": {
          "base_uri": "https://localhost:8080/"
        },
        "id": "4589tG9GF_aL",
        "outputId": "f497ba87-7cec-4c45-9cf1-9cfa5bb9c875"
      },
      "source": [
        "print(bycicles[0].title())"
      ],
      "execution_count": null,
      "outputs": [
        {
          "output_type": "stream",
          "text": [
            "Treck\n"
          ],
          "name": "stdout"
        }
      ]
    },
    {
      "cell_type": "markdown",
      "metadata": {
        "id": "8OHl9C3SGu3p"
      },
      "source": [
        "**Phyton también tiene una sintaxis especial para accesar al último elemento de una lista mediante el índice -1**"
      ]
    },
    {
      "cell_type": "code",
      "metadata": {
        "colab": {
          "base_uri": "https://localhost:8080/"
        },
        "id": "54JA3rZbGJxq",
        "outputId": "cb757d20-c79b-4739-c9eb-c4ee5669edcf"
      },
      "source": [
        "print(bycicles[-1])"
      ],
      "execution_count": null,
      "outputs": [
        {
          "output_type": "stream",
          "text": [
            "specilized\n"
          ],
          "name": "stdout"
        }
      ]
    },
    {
      "cell_type": "markdown",
      "metadata": {
        "id": "mgkKPlKsHArD"
      },
      "source": [
        "##**Usar valores individuales de una lista**"
      ]
    },
    {
      "cell_type": "markdown",
      "metadata": {
        "id": "Q4W67i0qHH1h"
      },
      "source": [
        "Por ejemplo, para crear un mensaje basado en el valor de un lista"
      ]
    },
    {
      "cell_type": "code",
      "metadata": {
        "colab": {
          "base_uri": "https://localhost:8080/"
        },
        "id": "E0ui83DZG3tx",
        "outputId": "0ae199b0-09e3-4ea3-b37d-19c1897753e1"
      },
      "source": [
        "message = \"My first bycicle was a \" + bycicles[0].title() + \".\"\n",
        "\n",
        "print(message)"
      ],
      "execution_count": null,
      "outputs": [
        {
          "output_type": "stream",
          "text": [
            "My first bycicle was a Treck.\n"
          ],
          "name": "stdout"
        }
      ]
    },
    {
      "cell_type": "code",
      "metadata": {
        "colab": {
          "base_uri": "https://localhost:8080/"
        },
        "id": "1H_EQ2q0HWbZ",
        "outputId": "24a481a3-1c99-46ec-8479-089d8f0e56d9"
      },
      "source": [
        "names = [\"Daniela\", \"Regina\", \"Fermín\", \"Ulises\", \"Axel\"]\n",
        "\n",
        "print(names[0].upper())\n",
        "print(names[1].lower())\n",
        "print(names[-2])"
      ],
      "execution_count": null,
      "outputs": [
        {
          "output_type": "stream",
          "text": [
            "DANIELA\n",
            "regina\n",
            "Ulises\n"
          ],
          "name": "stdout"
        }
      ]
    },
    {
      "cell_type": "code",
      "metadata": {
        "colab": {
          "base_uri": "https://localhost:8080/"
        },
        "id": "ru6s4xplHjPp",
        "outputId": "807cab5c-861a-4279-ee53-f10b8d27c9c8"
      },
      "source": [
        "message_names = \"Hola \" + names[0] \n",
        "print(message_names)"
      ],
      "execution_count": null,
      "outputs": [
        {
          "output_type": "stream",
          "text": [
            "Hola Daniela\n"
          ],
          "name": "stdout"
        }
      ]
    },
    {
      "cell_type": "code",
      "metadata": {
        "id": "rOmlL5OHIe0L"
      },
      "source": [
        "things = ['working out', 'motorcycle', 'organic chemistry', 'computational chemistry', 23]"
      ],
      "execution_count": null,
      "outputs": []
    },
    {
      "cell_type": "code",
      "metadata": {
        "colab": {
          "base_uri": "https://localhost:8080/"
        },
        "id": "1GWOE2wXItK2",
        "outputId": "1e6a3b54-384d-4234-ab39-a8d95d10ec38"
      },
      "source": [
        "print(\"I would like to ride a \" + things[1] + \".\")\n",
        "print(\"I love \" + things[0] + \" in the mornings.\")\n",
        "print(\"I don't like \" + things[2] + \" a lot.\")\n",
        "print(\"I'll get my chemistry degree when I'm \" + str(things[-1]) + \" years old.\" )"
      ],
      "execution_count": null,
      "outputs": [
        {
          "output_type": "stream",
          "text": [
            "I would like to ride a motorcycle.\n",
            "I love working out in the mornings.\n",
            "I don't like organic chemistry a lot.\n",
            "I'll get my chemistry degree when I'm 23 years old.\n"
          ],
          "name": "stdout"
        }
      ]
    },
    {
      "cell_type": "markdown",
      "metadata": {
        "id": "fJ0BWyA6KEPe"
      },
      "source": [
        "##**Cómo cambiar, añadir o remover elementos**"
      ]
    },
    {
      "cell_type": "markdown",
      "metadata": {
        "id": "eBEtGXnXKNx-"
      },
      "source": [
        "##Modificando:\n",
        "La sintaxis es similar a la forma para accesar. Para cambiarlo, usa el nombre de la lista seguido por el índice del elemento que se debe cambiar y luego poner el nuevo valor."
      ]
    },
    {
      "cell_type": "code",
      "metadata": {
        "colab": {
          "base_uri": "https://localhost:8080/"
        },
        "id": "AHZ_RUeGI5Fp",
        "outputId": "d1928ac8-013d-4101-ddc5-713d0032b3db"
      },
      "source": [
        "motorcycles = ['honda', 'yamaha', 'suzuki']\n",
        "print(motorcycles)"
      ],
      "execution_count": null,
      "outputs": [
        {
          "output_type": "stream",
          "text": [
            "['honda', 'yamaha', 'suzuki']\n"
          ],
          "name": "stdout"
        }
      ]
    },
    {
      "cell_type": "code",
      "metadata": {
        "colab": {
          "base_uri": "https://localhost:8080/"
        },
        "id": "j35npCaeKnSC",
        "outputId": "9cf5a77c-f5d7-45b9-dcf6-b105590c209e"
      },
      "source": [
        "motorcycles[0] = 'ducati'\n",
        "print(motorcycles)"
      ],
      "execution_count": null,
      "outputs": [
        {
          "output_type": "stream",
          "text": [
            "['ducati', 'yamaha', 'suzuki']\n"
          ],
          "name": "stdout"
        }
      ]
    },
    {
      "cell_type": "markdown",
      "metadata": {
        "id": "fTeGnBmIKzF_"
      },
      "source": [
        "##Añadiendo: \n",
        "La manera más simple de hacerlo es con el método \"append\". Cuando se usa, el nuevo elemento es añadido al final de la lista. "
      ]
    },
    {
      "cell_type": "code",
      "metadata": {
        "colab": {
          "base_uri": "https://localhost:8080/"
        },
        "id": "uDJ-HeXMKrBU",
        "outputId": "8844c261-c5da-4611-f53d-0b33da9728b7"
      },
      "source": [
        "motorcycles.append('honda')\n",
        "print(motorcycles)"
      ],
      "execution_count": null,
      "outputs": [
        {
          "output_type": "stream",
          "text": [
            "['ducati', 'yamaha', 'suzuki', 'ducati', 'honda']\n"
          ],
          "name": "stdout"
        }
      ]
    },
    {
      "cell_type": "markdown",
      "metadata": {
        "id": "oMxHl5wWLJTm"
      },
      "source": [
        "Este método es importante para crear listas dinámicamente. Por ejemplo, se puede comenzar con una lista vacía y luego ir añadiendo objetos a la lista usando una serie de appends:\n"
      ]
    },
    {
      "cell_type": "code",
      "metadata": {
        "id": "Ott5NglBLDCJ"
      },
      "source": [
        "motorcycles = []"
      ],
      "execution_count": null,
      "outputs": []
    },
    {
      "cell_type": "code",
      "metadata": {
        "colab": {
          "base_uri": "https://localhost:8080/"
        },
        "id": "IncUpAPaLULA",
        "outputId": "43dab086-a85e-4bc8-976d-e65ede155e9e"
      },
      "source": [
        "motorcycles.append('honda')\n",
        "motorcycles.append('yamaha')\n",
        "motorcycles.append('suzuki')\n",
        "\n",
        "print(motorcycles)"
      ],
      "execution_count": null,
      "outputs": [
        {
          "output_type": "stream",
          "text": [
            "['honda', 'honda', 'yamaha', 'suzuki']\n"
          ],
          "name": "stdout"
        }
      ]
    },
    {
      "cell_type": "markdown",
      "metadata": {
        "id": "rMbQRsSJL9eq"
      },
      "source": [
        "##Insertando: \n",
        "Se puede insertar un nuevo elemento en cualquier posición al usar el método insert(). Se puede especificar el índice de un nuevo elemento y el valor de un nuevo item."
      ]
    },
    {
      "cell_type": "code",
      "metadata": {
        "id": "NObwwBMfLYGL"
      },
      "source": [
        "motorcycles = [\"honda\", 'yamaha', 'suzuki']"
      ],
      "execution_count": null,
      "outputs": []
    },
    {
      "cell_type": "code",
      "metadata": {
        "colab": {
          "base_uri": "https://localhost:8080/"
        },
        "id": "LkiPj3XMMOMV",
        "outputId": "403783f6-887f-4513-c307-a827b952bc12"
      },
      "source": [
        "motorcycles.insert(0, 'ducati')\n",
        "print(motorcycles)"
      ],
      "execution_count": null,
      "outputs": [
        {
          "output_type": "stream",
          "text": [
            "['ducati', 'honda', 'yamaha', 'suzuki']\n"
          ],
          "name": "stdout"
        }
      ]
    },
    {
      "cell_type": "markdown",
      "metadata": {
        "id": "nIBm--OYMXvA"
      },
      "source": [
        "##Removiendo: \n",
        "A menudo se debe remover un objeto o un conjunto de objetos de una lista. Si se conoce la posición del objeto, se puede usar el statement \"del\". "
      ]
    },
    {
      "cell_type": "code",
      "metadata": {
        "colab": {
          "base_uri": "https://localhost:8080/"
        },
        "id": "DC6HIvvFMSxt",
        "outputId": "a9cbf342-63bc-4625-a6b9-bc5f606b08d9"
      },
      "source": [
        "del motorcycles[0]\n",
        "print(motorcycles)"
      ],
      "execution_count": null,
      "outputs": [
        {
          "output_type": "stream",
          "text": [
            "['honda', 'yamaha', 'suzuki']\n"
          ],
          "name": "stdout"
        }
      ]
    },
    {
      "cell_type": "markdown",
      "metadata": {
        "id": "RtJNj3b7MtnH"
      },
      "source": [
        "**Usando el método pop()**\n",
        "Algunas veces se necesitará usar el valor de un objeto después de haberlo removido de una lista. El método pop() permite eliminar el **último** objet de la lista, pero permite trabajar con él después de eliminarlo. "
      ]
    },
    {
      "cell_type": "code",
      "metadata": {
        "colab": {
          "base_uri": "https://localhost:8080/"
        },
        "id": "6gsYAkasMpJa",
        "outputId": "d99d83e3-2edd-4cba-d682-d8019020dbaf"
      },
      "source": [
        "motorcycles"
      ],
      "execution_count": null,
      "outputs": [
        {
          "output_type": "execute_result",
          "data": {
            "text/plain": [
              "['honda', 'yamaha', 'suzuki']"
            ]
          },
          "metadata": {
            "tags": []
          },
          "execution_count": 39
        }
      ]
    },
    {
      "cell_type": "code",
      "metadata": {
        "colab": {
          "base_uri": "https://localhost:8080/"
        },
        "id": "uuaTS30-O8_z",
        "outputId": "d6fe8401-fb7e-4d3b-d8a8-6016375e1552"
      },
      "source": [
        "popped_motorcycle = motorcycles.pop()\n",
        "print(motorcycles)\n",
        "print(popped_motorcycle)"
      ],
      "execution_count": null,
      "outputs": [
        {
          "output_type": "stream",
          "text": [
            "['honda', 'yamaha']\n",
            "suzuki\n"
          ],
          "name": "stdout"
        }
      ]
    },
    {
      "cell_type": "markdown",
      "metadata": {
        "id": "mZ7J1pGOQ2Pn"
      },
      "source": [
        "Puede usarse el método pop() para removier un objeto de la lista en cualquier posición al incluir el índice entre los paréntesis "
      ]
    },
    {
      "cell_type": "code",
      "metadata": {
        "colab": {
          "base_uri": "https://localhost:8080/"
        },
        "id": "kjNNc43XPQpr",
        "outputId": "05ae727b-b2b5-4762-f73c-d5a0a50da0bd"
      },
      "source": [
        "motorcycles.pop(0)\n",
        "print(motorcycles)\n"
      ],
      "execution_count": null,
      "outputs": [
        {
          "output_type": "stream",
          "text": [
            "['yamaha']\n"
          ],
          "name": "stdout"
        }
      ]
    },
    {
      "cell_type": "markdown",
      "metadata": {
        "id": "wsayHMi9RVZq"
      },
      "source": [
        "##Si se está insegura sobre usar del o pop(): cuando se necesite borrar un elemento de una lista y no usarlo más, usar sentencia del, si se usará más adelante después de removerlo, usar pop()"
      ]
    },
    {
      "cell_type": "markdown",
      "metadata": {
        "id": "4dawtCS9RwVU"
      },
      "source": [
        "##**Remover un objeto mediante el valor**:\n",
        "Si no se conoce la posición del objeto, pero se conoce cuál es el valor, se puede usar el método remove()"
      ]
    },
    {
      "cell_type": "code",
      "metadata": {
        "id": "8NoUcVPTRF-C"
      },
      "source": [
        "motorcycles = ['honda', 'yamaha', 'suzuki', 'ducati']"
      ],
      "execution_count": null,
      "outputs": []
    },
    {
      "cell_type": "code",
      "metadata": {
        "colab": {
          "base_uri": "https://localhost:8080/"
        },
        "id": "5woluXCQSF13",
        "outputId": "06e96616-467f-42b9-c18a-f1f802a1af60"
      },
      "source": [
        "motorcycles.remove('ducati')\n",
        "print(motorcycles)"
      ],
      "execution_count": null,
      "outputs": [
        {
          "output_type": "stream",
          "text": [
            "['honda', 'yamaha', 'suzuki']\n"
          ],
          "name": "stdout"
        }
      ]
    },
    {
      "cell_type": "markdown",
      "metadata": {
        "id": "T-R8F7ahSyH_"
      },
      "source": [
        "Se puede usar el método remover para trabajar con un valor que está siendo removido de una lista. "
      ]
    },
    {
      "cell_type": "code",
      "metadata": {
        "id": "u3GLsXXgSLs9"
      },
      "source": [
        "motorcycles = ['honda', 'yamaha', 'suzuki', 'ducati']"
      ],
      "execution_count": null,
      "outputs": []
    },
    {
      "cell_type": "code",
      "metadata": {
        "colab": {
          "base_uri": "https://localhost:8080/"
        },
        "id": "YawhWX8ATMff",
        "outputId": "9f3eb3c5-3586-4d5e-8795-9c9cf743f730"
      },
      "source": [
        "too_expensive = 'ducati'\n",
        "motorcycles.remove(too_expensive)\n",
        "print(motorcycles)"
      ],
      "execution_count": null,
      "outputs": [
        {
          "output_type": "stream",
          "text": [
            "['honda', 'yamaha', 'suzuki']\n"
          ],
          "name": "stdout"
        }
      ]
    },
    {
      "cell_type": "code",
      "metadata": {
        "colab": {
          "base_uri": "https://localhost:8080/"
        },
        "id": "LOpyEhC1TcK3",
        "outputId": "bff9700c-36a1-4432-80a0-43d33100f4f4"
      },
      "source": [
        "print(\"\\nA \" + too_expensive.title() + \" is too expensive for me.\")"
      ],
      "execution_count": null,
      "outputs": [
        {
          "output_type": "stream",
          "text": [
            "\n",
            "A Ducati is too expensive for me.\n"
          ],
          "name": "stdout"
        }
      ]
    },
    {
      "cell_type": "markdown",
      "metadata": {
        "id": "KSTAtB_hT3rM"
      },
      "source": [
        "**El método remove() solo elimina la primer ocurrencia del valor especificado. Si hay posibilidad de que el valor aparezca más de una vez en la lista, se deberá hacer un loop para determinar si las ocurrencias del valor han sio eliminadas.**"
      ]
    },
    {
      "cell_type": "code",
      "metadata": {
        "colab": {
          "base_uri": "https://localhost:8080/"
        },
        "id": "hYbdkH5aToA7",
        "outputId": "3e9f1df4-3df6-4b20-9658-be7e5a7375a8"
      },
      "source": [
        "guest_list = [\"Michelle Obama\", \"Jason Maoma\", \"Martín\"]\n",
        "\n",
        "print(\"Dear \" + guest_list[0] + \" you're invited to my dinner tomorrow night.\")"
      ],
      "execution_count": null,
      "outputs": [
        {
          "output_type": "stream",
          "text": [
            "Dear Michelle Obama you're invited to my dinner tomorrow night.\n"
          ],
          "name": "stdout"
        }
      ]
    },
    {
      "cell_type": "code",
      "metadata": {
        "id": "IEyNxe7IUZR6"
      },
      "source": [
        "guest_wont_make_it = (guest_list.pop(1))"
      ],
      "execution_count": null,
      "outputs": []
    },
    {
      "cell_type": "code",
      "metadata": {
        "colab": {
          "base_uri": "https://localhost:8080/"
        },
        "id": "zCPRLtIqU9xn",
        "outputId": "a2b09eac-70c6-4a93-b526-749073339c11"
      },
      "source": [
        "guest_list = [\"Michelle Obama\", \"Jason Maoma\", \"Martín\"]\n",
        "guest_list[1] = \"Ariana Grande\"\n",
        "print(guest_list)"
      ],
      "execution_count": null,
      "outputs": [
        {
          "output_type": "stream",
          "text": [
            "['Michelle Obama', 'Ariana Grande', 'Martín']\n"
          ],
          "name": "stdout"
        }
      ]
    },
    {
      "cell_type": "code",
      "metadata": {
        "colab": {
          "base_uri": "https://localhost:8080/"
        },
        "id": "8T-7fv3GVnCC",
        "outputId": "a6ae3aa7-d86a-4931-c08f-67d930d3f55f"
      },
      "source": [
        "print(\"Hey \" + guest_list[0] + \", I found a bigger table\")"
      ],
      "execution_count": null,
      "outputs": [
        {
          "output_type": "stream",
          "text": [
            "Hey Michelle Obama, I found a bigger table\n"
          ],
          "name": "stdout"
        }
      ]
    },
    {
      "cell_type": "code",
      "metadata": {
        "id": "Gm-oPNxIWo0k"
      },
      "source": [
        "guest_list.insert(0, \"Marco\")"
      ],
      "execution_count": null,
      "outputs": []
    },
    {
      "cell_type": "code",
      "metadata": {
        "colab": {
          "base_uri": "https://localhost:8080/"
        },
        "id": "flphY2j9WyVD",
        "outputId": "636eadca-67f9-4d60-a76d-ff343d712e5b"
      },
      "source": [
        "guest_list"
      ],
      "execution_count": null,
      "outputs": [
        {
          "output_type": "execute_result",
          "data": {
            "text/plain": [
              "['Marco', 'Michelle Obama', 'Ariana Grande', 'Martín']"
            ]
          },
          "metadata": {
            "tags": []
          },
          "execution_count": 73
        }
      ]
    },
    {
      "cell_type": "markdown",
      "metadata": {
        "id": "SEGx1O-IYmas"
      },
      "source": [
        "#**Organizing a list**"
      ]
    },
    {
      "cell_type": "markdown",
      "metadata": {
        "id": "MmYI9ADzYt0u"
      },
      "source": [
        "A menudo, las listas se crearán con un órden impredecible. Phyton permite ordenar las listas en un orden particular. "
      ]
    },
    {
      "cell_type": "markdown",
      "metadata": {
        "id": "JyNEbLfmaDJg"
      },
      "source": [
        "**El método sort() cambia el orden de la lista permanentemente**"
      ]
    },
    {
      "cell_type": "code",
      "metadata": {
        "colab": {
          "base_uri": "https://localhost:8080/"
        },
        "id": "qxwP123lW_yA",
        "outputId": "2bc9be61-6b96-4262-d5e9-d405ec1dc3f6"
      },
      "source": [
        "cars = ['bmw', 'audi', 'toyota', 'subaru']\n",
        "cars.sort() \n",
        "print(cars)"
      ],
      "execution_count": null,
      "outputs": [
        {
          "output_type": "stream",
          "text": [
            "['audi', 'bmw', 'subaru', 'toyota']\n"
          ],
          "name": "stdout"
        }
      ]
    },
    {
      "cell_type": "markdown",
      "metadata": {
        "id": "x8EW6WDDaOA0"
      },
      "source": [
        "Al revés:"
      ]
    },
    {
      "cell_type": "code",
      "metadata": {
        "colab": {
          "base_uri": "https://localhost:8080/"
        },
        "id": "iQ_VRU5aZ_qr",
        "outputId": "ebcaa64b-1023-4aa3-f5eb-08f5251f1a4e"
      },
      "source": [
        "cars = ['bmw', 'audi', 'toyota', 'subaru']\n",
        "cars.sort(reverse=True)\n",
        "print(cars)"
      ],
      "execution_count": null,
      "outputs": [
        {
          "output_type": "stream",
          "text": [
            "['toyota', 'subaru', 'bmw', 'audi']\n"
          ],
          "name": "stdout"
        }
      ]
    },
    {
      "cell_type": "markdown",
      "metadata": {
        "id": "6MH8-TU9bRfR"
      },
      "source": [
        "**Para ordenar una lista temporalmente se usa la función sorted()**"
      ]
    },
    {
      "cell_type": "code",
      "metadata": {
        "colab": {
          "base_uri": "https://localhost:8080/"
        },
        "id": "TseADt1saUG1",
        "outputId": "2e2e8a30-e934-47d1-a02b-13617ac10191"
      },
      "source": [
        "cars = ['bmw', 'audi', 'toyota', 'subaru']\n",
        "\n",
        "print(\"Here is the original list:\")\n",
        "print(cars)\n",
        "\n",
        "print(\"\\nHere is the sorted list:\")\n",
        "print(sorted(cars))\n",
        "\n",
        "print(\"\\nHere is the original list again:\")\n",
        "print(cars)"
      ],
      "execution_count": null,
      "outputs": [
        {
          "output_type": "stream",
          "text": [
            "Here is the original list:\n",
            "['bmw', 'audi', 'toyota', 'subaru']\n",
            "\n",
            "Here is the sorted list:\n",
            "['audi', 'bmw', 'subaru', 'toyota']\n",
            "\n",
            "Here is the original list again:\n",
            "['bmw', 'audi', 'toyota', 'subaru']\n"
          ],
          "name": "stdout"
        }
      ]
    },
    {
      "cell_type": "code",
      "metadata": {
        "id": "cqQ1dimMb0E2"
      },
      "source": [
        ""
      ],
      "execution_count": null,
      "outputs": []
    }
  ]
}