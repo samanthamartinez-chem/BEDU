{
  "nbformat": 4,
  "nbformat_minor": 0,
  "metadata": {
    "colab": {
      "name": "Untitled6.ipynb",
      "provenance": [],
      "authorship_tag": "ABX9TyP2s2TB0/ndCOF9hpcnpnc0",
      "include_colab_link": true
    },
    "kernelspec": {
      "name": "python3",
      "display_name": "Python 3"
    },
    "language_info": {
      "name": "python"
    }
  },
  "cells": [
    {
      "cell_type": "markdown",
      "metadata": {
        "id": "view-in-github",
        "colab_type": "text"
      },
      "source": [
        "<a href=\"https://colab.research.google.com/github/samanthamartinez-chem/BEDU/blob/master/numbers_and_comments.ipynb\" target=\"_parent\"><img src=\"https://colab.research.google.com/assets/colab-badge.svg\" alt=\"Open In Colab\"/></a>"
      ]
    },
    {
      "cell_type": "markdown",
      "metadata": {
        "id": "F8eSdOdj_K52"
      },
      "source": [
        "#**Numbers**\n"
      ]
    },
    {
      "cell_type": "markdown",
      "metadata": {
        "id": "6xUmJWKw7uZx"
      },
      "source": [
        "Phyton utiliza ** para indicar exponentes "
      ]
    },
    {
      "cell_type": "code",
      "metadata": {
        "colab": {
          "base_uri": "https://localhost:8080/"
        },
        "id": "7UasTYrB7inl",
        "outputId": "dbf23984-cb4b-4dd3-91a4-e64f3f0b0821"
      },
      "source": [
        "3**2\n",
        "3**3\n"
      ],
      "execution_count": 2,
      "outputs": [
        {
          "output_type": "execute_result",
          "data": {
            "text/plain": [
              "27"
            ]
          },
          "metadata": {
            "tags": []
          },
          "execution_count": 2
        }
      ]
    },
    {
      "cell_type": "code",
      "metadata": {
        "colab": {
          "base_uri": "https://localhost:8080/"
        },
        "id": "xrhCF_wY71DB",
        "outputId": "eb6249b1-d4f9-44a9-8b4f-014e2e6742a4"
      },
      "source": [
        "2 + 3*4"
      ],
      "execution_count": 3,
      "outputs": [
        {
          "output_type": "execute_result",
          "data": {
            "text/plain": [
              "14"
            ]
          },
          "metadata": {
            "tags": []
          },
          "execution_count": 3
        }
      ]
    },
    {
      "cell_type": "markdown",
      "metadata": {
        "id": "SHpeBSCc8BH2"
      },
      "source": [
        "Phyton respeta la jerarquía de operaciones. Se pueden usar paréntesis para modificar el orden de las operaciones para que Python evalúe las expresiones en el orden que se especificque. El espaciado no afectará la jerarquía, pero puede ayudar al lector a identificar las operaciones rápidamente. \n"
      ]
    },
    {
      "cell_type": "markdown",
      "metadata": {
        "id": "geoaFR3l_Cvm"
      },
      "source": [
        ""
      ]
    },
    {
      "cell_type": "code",
      "metadata": {
        "colab": {
          "base_uri": "https://localhost:8080/"
        },
        "id": "nSLQBrC781Xr",
        "outputId": "79824ba6-0786-4576-a7ad-691479dbe519"
      },
      "source": [
        "(2 + 3) * 4\n"
      ],
      "execution_count": 5,
      "outputs": [
        {
          "output_type": "execute_result",
          "data": {
            "text/plain": [
              "20"
            ]
          },
          "metadata": {
            "tags": []
          },
          "execution_count": 5
        }
      ]
    },
    {
      "cell_type": "code",
      "metadata": {
        "colab": {
          "base_uri": "https://localhost:8080/"
        },
        "id": "JhC12KM3836a",
        "outputId": "d55052cd-82ff-4680-b1be-74b3786f0c84"
      },
      "source": [
        "0.2 + 0.1"
      ],
      "execution_count": 6,
      "outputs": [
        {
          "output_type": "execute_result",
          "data": {
            "text/plain": [
              "0.30000000000000004"
            ]
          },
          "metadata": {
            "tags": []
          },
          "execution_count": 6
        }
      ]
    },
    {
      "cell_type": "markdown",
      "metadata": {
        "id": "7VBYtmVg9ebe"
      },
      "source": [
        "#Evitando errores con la funcitón str()"
      ]
    },
    {
      "cell_type": "markdown",
      "metadata": {
        "id": "bEfF5nmK9szx"
      },
      "source": [
        "A menudo queremos usar un número dentro de un mensaje. Por ejemplo: "
      ]
    },
    {
      "cell_type": "code",
      "metadata": {
        "colab": {
          "base_uri": "https://localhost:8080/",
          "height": 227
        },
        "id": "vZBy-E-m9X4R",
        "outputId": "4c9c29f3-bff9-4295-f6e8-668a536466aa"
      },
      "source": [
        "age = 23 \n",
        "message = \"Happy \" + age + \"rd Birthday!\"\n",
        "\n",
        "print(message)"
      ],
      "execution_count": 7,
      "outputs": [
        {
          "output_type": "error",
          "ename": "TypeError",
          "evalue": "ignored",
          "traceback": [
            "\u001b[0;31m---------------------------------------------------------------------------\u001b[0m",
            "\u001b[0;31mTypeError\u001b[0m                                 Traceback (most recent call last)",
            "\u001b[0;32m<ipython-input-7-712d94057cdd>\u001b[0m in \u001b[0;36m<module>\u001b[0;34m()\u001b[0m\n\u001b[1;32m      1\u001b[0m \u001b[0mage\u001b[0m \u001b[0;34m=\u001b[0m \u001b[0;36m23\u001b[0m\u001b[0;34m\u001b[0m\u001b[0;34m\u001b[0m\u001b[0m\n\u001b[0;32m----> 2\u001b[0;31m \u001b[0mmessage\u001b[0m \u001b[0;34m=\u001b[0m \u001b[0;34m\"Happy \"\u001b[0m \u001b[0;34m+\u001b[0m \u001b[0mage\u001b[0m \u001b[0;34m+\u001b[0m \u001b[0;34m\"rd Birthday!\"\u001b[0m\u001b[0;34m\u001b[0m\u001b[0;34m\u001b[0m\u001b[0m\n\u001b[0m\u001b[1;32m      3\u001b[0m \u001b[0;34m\u001b[0m\u001b[0m\n\u001b[1;32m      4\u001b[0m \u001b[0mprint\u001b[0m\u001b[0;34m(\u001b[0m\u001b[0mmessage\u001b[0m\u001b[0;34m)\u001b[0m\u001b[0;34m\u001b[0m\u001b[0;34m\u001b[0m\u001b[0m\n",
            "\u001b[0;31mTypeError\u001b[0m: can only concatenate str (not \"int\") to str"
          ]
        }
      ]
    },
    {
      "cell_type": "markdown",
      "metadata": {
        "id": "huxTYbZ4-Bc8"
      },
      "source": [
        "El error TypeError signifia que Python no puede reconocer el tipo de información que se está usando. Python observa que se está usando una variable con un valor int, pero no está seguro de cómo interpetrarlo, ya que sabe que puede representarlo en valor 23 o en caracteres 2 y 3. "
      ]
    },
    {
      "cell_type": "markdown",
      "metadata": {
        "id": "6gq_bePw-XML"
      },
      "source": [
        "### Cuando usamos ints dentro de strings, debemos de especificar explícitamente que queremos que Python use un int como un string. Se puede lograr al envolver la varible en la función str(), que le dice a Python cómo representar valores non-string en strings. "
      ]
    },
    {
      "cell_type": "code",
      "metadata": {
        "colab": {
          "base_uri": "https://localhost:8080/"
        },
        "id": "tNAkOevA98go",
        "outputId": "68178812-06bd-4ef1-babb-449077c8b0e8"
      },
      "source": [
        "age = 23 \n",
        "message = \"Happy \" + str(age) +  \"rd Birthday!\"\n",
        "\n",
        "print(message)"
      ],
      "execution_count": 8,
      "outputs": [
        {
          "output_type": "stream",
          "text": [
            "Happy 23rd Birthday!\n"
          ],
          "name": "stdout"
        }
      ]
    },
    {
      "cell_type": "code",
      "metadata": {
        "id": "mDjNyNh5-zlD"
      },
      "source": [
        ""
      ],
      "execution_count": null,
      "outputs": []
    },
    {
      "cell_type": "markdown",
      "metadata": {
        "id": "TsdIwP_j_Zvm"
      },
      "source": [
        "#**Comments**"
      ]
    },
    {
      "cell_type": "code",
      "metadata": {
        "id": "-5VpiR7S_a5j"
      },
      "source": [
        "# La razón principal por la que se escriben comentarios es para explicar lo que \n",
        "# el código está intentando resolver. "
      ],
      "execution_count": null,
      "outputs": []
    },
    {
      "cell_type": "markdown",
      "metadata": {
        "id": "Hkhr664sAv9z"
      },
      "source": [
        "##The Zen of Python"
      ]
    },
    {
      "cell_type": "code",
      "metadata": {
        "colab": {
          "base_uri": "https://localhost:8080/"
        },
        "id": "sxASZalCAz91",
        "outputId": "5f8588bf-5287-4d1f-caed-11b6b2e5fc4d"
      },
      "source": [
        "import this"
      ],
      "execution_count": 10,
      "outputs": [
        {
          "output_type": "stream",
          "text": [
            "The Zen of Python, by Tim Peters\n",
            "\n",
            "Beautiful is better than ugly.\n",
            "Explicit is better than implicit.\n",
            "Simple is better than complex.\n",
            "Complex is better than complicated.\n",
            "Flat is better than nested.\n",
            "Sparse is better than dense.\n",
            "Readability counts.\n",
            "Special cases aren't special enough to break the rules.\n",
            "Although practicality beats purity.\n",
            "Errors should never pass silently.\n",
            "Unless explicitly silenced.\n",
            "In the face of ambiguity, refuse the temptation to guess.\n",
            "There should be one-- and preferably only one --obvious way to do it.\n",
            "Although that way may not be obvious at first unless you're Dutch.\n",
            "Now is better than never.\n",
            "Although never is often better than *right* now.\n",
            "If the implementation is hard to explain, it's a bad idea.\n",
            "If the implementation is easy to explain, it may be a good idea.\n",
            "Namespaces are one honking great idea -- let's do more of those!\n"
          ],
          "name": "stdout"
        }
      ]
    },
    {
      "cell_type": "code",
      "metadata": {
        "id": "YBr6Za4eA3An"
      },
      "source": [
        ""
      ],
      "execution_count": null,
      "outputs": []
    }
  ]
}